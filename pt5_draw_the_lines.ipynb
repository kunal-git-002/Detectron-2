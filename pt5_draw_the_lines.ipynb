{
  "nbformat": 4,
  "nbformat_minor": 0,
  "metadata": {
    "colab": {
      "name": "pt5 -draw the lines.ipynb",
      "provenance": [],
      "collapsed_sections": [],
      "mount_file_id": "1RwBZKsOd_NYBzvJUHyj6uapFW3Lf8BgU",
      "authorship_tag": "ABX9TyO/zs6vd7HG+FVnUwtGdSke",
      "include_colab_link": true
    },
    "kernelspec": {
      "name": "python3",
      "display_name": "Python 3"
    },
    "accelerator": "GPU"
  },
  "cells": [
    {
      "cell_type": "markdown",
      "metadata": {
        "id": "view-in-github",
        "colab_type": "text"
      },
      "source": [
        "<a href=\"https://colab.research.google.com/github/kunal-git-002/Detectron-2/blob/master/pt5_draw_the_lines.ipynb\" target=\"_parent\"><img src=\"https://colab.research.google.com/assets/colab-badge.svg\" alt=\"Open In Colab\"/></a>"
      ]
    },
    {
      "cell_type": "markdown",
      "metadata": {
        "id": "jC_87sh6nO11",
        "colab_type": "text"
      },
      "source": [
        "# pt 5 : draw the lines from one kepoint to another\n",
        "\n",
        "> for single person\n",
        "\n",
        "\n",
        "\n",
        "\n",
        "\n",
        "\n"
      ]
    },
    {
      "cell_type": "markdown",
      "metadata": {
        "id": "VqOM4opERyMJ",
        "colab_type": "text"
      },
      "source": [
        "# preavious data of part 4 \n"
      ]
    },
    {
      "cell_type": "code",
      "metadata": {
        "id": "cHMOHFG_bgg5",
        "colab_type": "code",
        "colab": {}
      },
      "source": [
        "from google.colab.patches import cv2_imshow\n",
        "import cv2\n",
        "import pandas as pd"
      ],
      "execution_count": 113,
      "outputs": []
    },
    {
      "cell_type": "code",
      "metadata": {
        "id": "79fmyv4fU7cR",
        "colab_type": "code",
        "colab": {
          "base_uri": "https://localhost:8080/",
          "height": 123
        },
        "outputId": "56d1d3fb-9d7f-4eea-df04-e6c49d9b4eec"
      },
      "source": [
        "\n",
        "# install dependencies: \n",
        "!pip install pyyaml==5.1 pycocotools>=2.0.1\n",
        "import torch, torchvision\n",
        "print(torch.__version__, torch.cuda.is_available())\n",
        "!gcc --version\n",
        "# opencv is pre-installed on colab"
      ],
      "execution_count": 114,
      "outputs": [
        {
          "output_type": "stream",
          "text": [
            "1.6.0+cu101 True\n",
            "gcc (Ubuntu 7.5.0-3ubuntu1~18.04) 7.5.0\n",
            "Copyright (C) 2017 Free Software Foundation, Inc.\n",
            "This is free software; see the source for copying conditions.  There is NO\n",
            "warranty; not even for MERCHANTABILITY or FITNESS FOR A PARTICULAR PURPOSE.\n",
            "\n"
          ],
          "name": "stdout"
        }
      ]
    },
    {
      "cell_type": "code",
      "metadata": {
        "id": "XIDQwCTuVdb2",
        "colab_type": "code",
        "colab": {
          "base_uri": "https://localhost:8080/",
          "height": 872
        },
        "outputId": "42f6d7ad-4b85-4ef5-d73a-54aae9f76011"
      },
      "source": [
        "# install detectron2: (Colab has CUDA 10.1 + torch 1.6)\n",
        "# See https://detectron2.readthedocs.io/tutorials/install.html for instructions\n",
        "assert torch.__version__.startswith(\"1.6\")\n",
        "!pip install detectron2 -f https://dl.fbaipublicfiles.com/detectron2/wheels/cu101/torch1.6/index.html"
      ],
      "execution_count": 115,
      "outputs": [
        {
          "output_type": "stream",
          "text": [
            "Looking in links: https://dl.fbaipublicfiles.com/detectron2/wheels/cu101/torch1.6/index.html\n",
            "Requirement already satisfied: detectron2 in /usr/local/lib/python3.6/dist-packages (0.2.1+cu101)\n",
            "Requirement already satisfied: termcolor>=1.1 in /usr/local/lib/python3.6/dist-packages (from detectron2) (1.1.0)\n",
            "Requirement already satisfied: pydot in /usr/local/lib/python3.6/dist-packages (from detectron2) (1.3.0)\n",
            "Requirement already satisfied: yacs>=0.1.6 in /usr/local/lib/python3.6/dist-packages (from detectron2) (0.1.8)\n",
            "Requirement already satisfied: tqdm>4.29.0 in /usr/local/lib/python3.6/dist-packages (from detectron2) (4.41.1)\n",
            "Requirement already satisfied: tabulate in /usr/local/lib/python3.6/dist-packages (from detectron2) (0.8.7)\n",
            "Requirement already satisfied: mock in /usr/local/lib/python3.6/dist-packages (from detectron2) (4.0.2)\n",
            "Requirement already satisfied: pycocotools>=2.0.1 in /usr/local/lib/python3.6/dist-packages (from detectron2) (2.0.1)\n",
            "Requirement already satisfied: cloudpickle in /usr/local/lib/python3.6/dist-packages (from detectron2) (1.3.0)\n",
            "Requirement already satisfied: future in /usr/local/lib/python3.6/dist-packages (from detectron2) (0.16.0)\n",
            "Requirement already satisfied: tensorboard in /usr/local/lib/python3.6/dist-packages (from detectron2) (2.3.0)\n",
            "Requirement already satisfied: matplotlib in /usr/local/lib/python3.6/dist-packages (from detectron2) (3.2.2)\n",
            "Requirement already satisfied: fvcore>=0.1.1 in /usr/local/lib/python3.6/dist-packages (from detectron2) (0.1.1.post20200716)\n",
            "Requirement already satisfied: Pillow>=7.1 in /usr/local/lib/python3.6/dist-packages (from detectron2) (7.2.0)\n",
            "Requirement already satisfied: pyparsing>=2.1.4 in /usr/local/lib/python3.6/dist-packages (from pydot->detectron2) (2.4.7)\n",
            "Requirement already satisfied: PyYAML in /usr/local/lib/python3.6/dist-packages (from yacs>=0.1.6->detectron2) (5.1)\n",
            "Requirement already satisfied: setuptools>=18.0 in /usr/local/lib/python3.6/dist-packages (from pycocotools>=2.0.1->detectron2) (49.2.0)\n",
            "Requirement already satisfied: cython>=0.27.3 in /usr/local/lib/python3.6/dist-packages (from pycocotools>=2.0.1->detectron2) (0.29.21)\n",
            "Requirement already satisfied: absl-py>=0.4 in /usr/local/lib/python3.6/dist-packages (from tensorboard->detectron2) (0.9.0)\n",
            "Requirement already satisfied: six>=1.10.0 in /usr/local/lib/python3.6/dist-packages (from tensorboard->detectron2) (1.15.0)\n",
            "Requirement already satisfied: werkzeug>=0.11.15 in /usr/local/lib/python3.6/dist-packages (from tensorboard->detectron2) (1.0.1)\n",
            "Requirement already satisfied: numpy>=1.12.0 in /usr/local/lib/python3.6/dist-packages (from tensorboard->detectron2) (1.18.5)\n",
            "Requirement already satisfied: grpcio>=1.24.3 in /usr/local/lib/python3.6/dist-packages (from tensorboard->detectron2) (1.31.0)\n",
            "Requirement already satisfied: wheel>=0.26; python_version >= \"3\" in /usr/local/lib/python3.6/dist-packages (from tensorboard->detectron2) (0.34.2)\n",
            "Requirement already satisfied: protobuf>=3.6.0 in /usr/local/lib/python3.6/dist-packages (from tensorboard->detectron2) (3.12.4)\n",
            "Requirement already satisfied: google-auth<2,>=1.6.3 in /usr/local/lib/python3.6/dist-packages (from tensorboard->detectron2) (1.17.2)\n",
            "Requirement already satisfied: google-auth-oauthlib<0.5,>=0.4.1 in /usr/local/lib/python3.6/dist-packages (from tensorboard->detectron2) (0.4.1)\n",
            "Requirement already satisfied: tensorboard-plugin-wit>=1.6.0 in /usr/local/lib/python3.6/dist-packages (from tensorboard->detectron2) (1.7.0)\n",
            "Requirement already satisfied: markdown>=2.6.8 in /usr/local/lib/python3.6/dist-packages (from tensorboard->detectron2) (3.2.2)\n",
            "Requirement already satisfied: requests<3,>=2.21.0 in /usr/local/lib/python3.6/dist-packages (from tensorboard->detectron2) (2.23.0)\n",
            "Requirement already satisfied: python-dateutil>=2.1 in /usr/local/lib/python3.6/dist-packages (from matplotlib->detectron2) (2.8.1)\n",
            "Requirement already satisfied: cycler>=0.10 in /usr/local/lib/python3.6/dist-packages (from matplotlib->detectron2) (0.10.0)\n",
            "Requirement already satisfied: kiwisolver>=1.0.1 in /usr/local/lib/python3.6/dist-packages (from matplotlib->detectron2) (1.2.0)\n",
            "Requirement already satisfied: portalocker in /usr/local/lib/python3.6/dist-packages (from fvcore>=0.1.1->detectron2) (2.0.0)\n",
            "Requirement already satisfied: pyasn1-modules>=0.2.1 in /usr/local/lib/python3.6/dist-packages (from google-auth<2,>=1.6.3->tensorboard->detectron2) (0.2.8)\n",
            "Requirement already satisfied: cachetools<5.0,>=2.0.0 in /usr/local/lib/python3.6/dist-packages (from google-auth<2,>=1.6.3->tensorboard->detectron2) (4.1.1)\n",
            "Requirement already satisfied: rsa<5,>=3.1.4; python_version >= \"3\" in /usr/local/lib/python3.6/dist-packages (from google-auth<2,>=1.6.3->tensorboard->detectron2) (4.6)\n",
            "Requirement already satisfied: requests-oauthlib>=0.7.0 in /usr/local/lib/python3.6/dist-packages (from google-auth-oauthlib<0.5,>=0.4.1->tensorboard->detectron2) (1.3.0)\n",
            "Requirement already satisfied: importlib-metadata; python_version < \"3.8\" in /usr/local/lib/python3.6/dist-packages (from markdown>=2.6.8->tensorboard->detectron2) (1.7.0)\n",
            "Requirement already satisfied: certifi>=2017.4.17 in /usr/local/lib/python3.6/dist-packages (from requests<3,>=2.21.0->tensorboard->detectron2) (2020.6.20)\n",
            "Requirement already satisfied: chardet<4,>=3.0.2 in /usr/local/lib/python3.6/dist-packages (from requests<3,>=2.21.0->tensorboard->detectron2) (3.0.4)\n",
            "Requirement already satisfied: idna<3,>=2.5 in /usr/local/lib/python3.6/dist-packages (from requests<3,>=2.21.0->tensorboard->detectron2) (2.10)\n",
            "Requirement already satisfied: urllib3!=1.25.0,!=1.25.1,<1.26,>=1.21.1 in /usr/local/lib/python3.6/dist-packages (from requests<3,>=2.21.0->tensorboard->detectron2) (1.24.3)\n",
            "Requirement already satisfied: pyasn1<0.5.0,>=0.4.6 in /usr/local/lib/python3.6/dist-packages (from pyasn1-modules>=0.2.1->google-auth<2,>=1.6.3->tensorboard->detectron2) (0.4.8)\n",
            "Requirement already satisfied: oauthlib>=3.0.0 in /usr/local/lib/python3.6/dist-packages (from requests-oauthlib>=0.7.0->google-auth-oauthlib<0.5,>=0.4.1->tensorboard->detectron2) (3.1.0)\n",
            "Requirement already satisfied: zipp>=0.5 in /usr/local/lib/python3.6/dist-packages (from importlib-metadata; python_version < \"3.8\"->markdown>=2.6.8->tensorboard->detectron2) (3.1.0)\n"
          ],
          "name": "stdout"
        }
      ]
    },
    {
      "cell_type": "code",
      "metadata": {
        "id": "7LlzU1ifVffC",
        "colab_type": "code",
        "colab": {}
      },
      "source": [
        "# Some basic setup:\n",
        "# Setup detectron2 logger\n",
        "import detectron2\n",
        "from detectron2.utils.logger import setup_logger\n",
        "setup_logger()\n",
        "\n",
        "# import some common libraries\n",
        "import numpy as np\n",
        "import os, json, cv2, random\n",
        "from google.colab.patches import cv2_imshow\n",
        "\n",
        "# import some common detectron2 utilities\n",
        "from detectron2 import model_zoo\n",
        "from detectron2.engine import DefaultPredictor\n",
        "from detectron2.config import get_cfg\n",
        "from detectron2.utils.visualizer import Visualizer\n",
        "from detectron2.data import MetadataCatalog, DatasetCatalog"
      ],
      "execution_count": 116,
      "outputs": []
    },
    {
      "cell_type": "code",
      "metadata": {
        "id": "BHrT98b1VhqL",
        "colab_type": "code",
        "colab": {}
      },
      "source": [
        "def read_img(path):\n",
        "  img=cv2.imread(path)\n",
        "  h,w,ch=img.shape\n",
        "\n",
        "  new_h=800\n",
        "  ratio=h/new_h\n",
        "\n",
        "  new_w=int(w/ratio)\n",
        "\n",
        "  return cv2.resize(img,(new_w,new_h))\n",
        "\n",
        "img = read_img(\"/content/drive/My Drive/imgs/st1.png\")\n",
        "\n",
        "#cv2_imshow(img)"
      ],
      "execution_count": 117,
      "outputs": []
    },
    {
      "cell_type": "code",
      "metadata": {
        "id": "zbYuOwzhVjzO",
        "colab_type": "code",
        "colab": {}
      },
      "source": [
        "# Inference with a keypoint detection model\n",
        "cfg = get_cfg()\n",
        "cfg.merge_from_file(model_zoo.get_config_file(\"COCO-Keypoints/keypoint_rcnn_R_50_FPN_3x.yaml\"))\n",
        "cfg.MODEL.ROI_HEADS.SCORE_THRESH_TEST = 0.7  # set threshold for this model\n",
        "cfg.MODEL.WEIGHTS = model_zoo.get_checkpoint_url(\"COCO-Keypoints/keypoint_rcnn_R_50_FPN_3x.yaml\")\n",
        "predictor = DefaultPredictor(cfg)\n",
        "\n",
        "outputs = predictor(img)#return a dictionaries\n",
        "\n",
        "v = Visualizer(img[:,:,::-1], MetadataCatalog.get(cfg.DATASETS.TRAIN[0]), scale=1.2)\n",
        "out = v.draw_instance_predictions(outputs[\"instances\"].to(\"cpu\"))\n",
        "\n",
        "#cv2_imshow(out.get_image()[:, :, ::-1])"
      ],
      "execution_count": 118,
      "outputs": []
    },
    {
      "cell_type": "markdown",
      "metadata": {
        "id": "5izR7wcNhkTz",
        "colab_type": "text"
      },
      "source": [
        "***step 1 : getting all the information***"
      ]
    },
    {
      "cell_type": "code",
      "metadata": {
        "id": "KCSXBoMWd-cr",
        "colab_type": "code",
        "colab": {}
      },
      "source": [
        "\n",
        "ins=outputs[\"instances\"]#create output instance\n",
        "\n",
        "op_data=ins.get_fields()#this return a all the imp data like, bboxes,confidence score,keypoints locations & classes\n",
        "\n",
        "keypoints_data=op_data[\"pred_keypoints\"]\n",
        "\n",
        "#conversion of data into numpy array\n",
        "\n",
        "#data is first moved to cpu and then converted to numpy array\n",
        "keypoints_data = keypoints_data.cpu().data.numpy()\n",
        "\n",
        "#now numpy array\n",
        "keypoints_data=keypoints_data=np.array(keypoints_data)"
      ],
      "execution_count": 119,
      "outputs": []
    },
    {
      "cell_type": "code",
      "metadata": {
        "id": "J_WF4bUFsoHA",
        "colab_type": "code",
        "colab": {
          "base_uri": "https://localhost:8080/",
          "height": 34
        },
        "outputId": "b6be94fb-4406-476c-bfed-2abc3a2d0244"
      },
      "source": [
        "keypoints_data.shape"
      ],
      "execution_count": 120,
      "outputs": [
        {
          "output_type": "execute_result",
          "data": {
            "text/plain": [
              "(1, 17, 3)"
            ]
          },
          "metadata": {
            "tags": []
          },
          "execution_count": 120
        }
      ]
    },
    {
      "cell_type": "code",
      "metadata": {
        "id": "yNkCtPRBkf1-",
        "colab_type": "code",
        "colab": {}
      },
      "source": [
        "n,k,_=keypoints_data.shape\n",
        "#n=num of instanves\n",
        "#k=num of keypoints per instances\n",
        "#_=3 ,becz we have three values (x,y,visbility)\n",
        "\n",
        "#indexes of human keypoints according Detectron 2 keypoints model\n",
        "human_keypoints={0: 'nose',\n",
        " 1: 'left_eye',\n",
        " 2: 'right_eye',\n",
        " 3: 'left_ear',\n",
        " 4: 'right_ear',\n",
        " 5: 'left_shoulder',\n",
        " 6: 'right_shoulder',\n",
        " 7: 'left_elbow',\n",
        " 8: 'right_elbow',\n",
        " 9: 'left_wrist',\n",
        " 10: 'right_wrist',\n",
        " 11: 'left_hip',\n",
        " 12: 'right_hip',\n",
        " 13: 'left_knee',\n",
        " 14: 'right_knee',\n",
        " 15: 'left_ankle',\n",
        " 16: 'right_ankle'}\n",
        "\n",
        "all_kps={}\n",
        "\n",
        "for i in range(n):\n",
        "  kps=keypoints_data[i]\n",
        "\n",
        "  temp_dic={}\n",
        "  for j in range(len(kps)):\n",
        "\n",
        "    x,y,vis=kps[j]\n",
        "    #x,y,vis=int(x),int(y),int(vis)\n",
        "    temp_dic[j]=(human_keypoints[j],\n",
        "                 (x,y))\n",
        "  \n",
        "  all_kps[i]=temp_dic\n"
      ],
      "execution_count": 121,
      "outputs": []
    },
    {
      "cell_type": "markdown",
      "metadata": {
        "id": "G29Uyaz5qBC1",
        "colab_type": "text"
      },
      "source": [
        "convert into pandas dataframe"
      ]
    },
    {
      "cell_type": "code",
      "metadata": {
        "id": "YyGYerbjoCYk",
        "colab_type": "code",
        "colab": {
          "base_uri": "https://localhost:8080/",
          "height": 587
        },
        "outputId": "f21d0dea-993d-4ffa-a958-857990ad29bb"
      },
      "source": [
        "\n",
        "kps=[i for i in human_keypoints.values()]\n",
        "keypoints_locs_df=pd.DataFrame(data=kps)\n",
        "keypoints_locs_df.rename(columns={0:\"human part\"},inplace=True)\n",
        "\n",
        "for ins in range(n):\n",
        "  kps=all_kps[ins]\n",
        "  temp_li=[]\n",
        "  for ind,val in kps.items():\n",
        "    part,locs=val\n",
        "    temp_li.append(locs)\n",
        "  keypoints_locs_df[\"person \"+str(ins)+\" (x,y)\"]=temp_li\n",
        "\n",
        "keypoints_locs_df.set_index(\"human part\",drop=True)"
      ],
      "execution_count": 122,
      "outputs": [
        {
          "output_type": "execute_result",
          "data": {
            "text/html": [
              "<div>\n",
              "<style scoped>\n",
              "    .dataframe tbody tr th:only-of-type {\n",
              "        vertical-align: middle;\n",
              "    }\n",
              "\n",
              "    .dataframe tbody tr th {\n",
              "        vertical-align: top;\n",
              "    }\n",
              "\n",
              "    .dataframe thead th {\n",
              "        text-align: right;\n",
              "    }\n",
              "</style>\n",
              "<table border=\"1\" class=\"dataframe\">\n",
              "  <thead>\n",
              "    <tr style=\"text-align: right;\">\n",
              "      <th></th>\n",
              "      <th>person 0 (x,y)</th>\n",
              "    </tr>\n",
              "    <tr>\n",
              "      <th>human part</th>\n",
              "      <th></th>\n",
              "    </tr>\n",
              "  </thead>\n",
              "  <tbody>\n",
              "    <tr>\n",
              "      <th>nose</th>\n",
              "      <td>(350.08545, 101.575134)</td>\n",
              "    </tr>\n",
              "    <tr>\n",
              "      <th>left_eye</th>\n",
              "      <td>(361.48383, 87.5547)</td>\n",
              "    </tr>\n",
              "    <tr>\n",
              "      <th>right_eye</th>\n",
              "      <td>(334.3031, 88.43098)</td>\n",
              "    </tr>\n",
              "    <tr>\n",
              "      <th>left_ear</th>\n",
              "      <td>(383.40378, 95.44119)</td>\n",
              "    </tr>\n",
              "    <tr>\n",
              "      <th>right_ear</th>\n",
              "      <td>(317.64395, 98.07003)</td>\n",
              "    </tr>\n",
              "    <tr>\n",
              "      <th>left_shoulder</th>\n",
              "      <td>(428.12042, 184.82147)</td>\n",
              "    </tr>\n",
              "    <tr>\n",
              "      <th>right_shoulder</th>\n",
              "      <td>(283.44885, 191.83168)</td>\n",
              "    </tr>\n",
              "    <tr>\n",
              "      <th>left_elbow</th>\n",
              "      <td>(451.79398, 287.3459)</td>\n",
              "    </tr>\n",
              "    <tr>\n",
              "      <th>right_elbow</th>\n",
              "      <td>(253.63774, 289.97473)</td>\n",
              "    </tr>\n",
              "    <tr>\n",
              "      <th>left_wrist</th>\n",
              "      <td>(520.1842, 300.49005)</td>\n",
              "    </tr>\n",
              "    <tr>\n",
              "      <th>right_wrist</th>\n",
              "      <td>(182.61716, 310.1291)</td>\n",
              "    </tr>\n",
              "    <tr>\n",
              "      <th>left_hip</th>\n",
              "      <td>(407.9541, 407.39584)</td>\n",
              "    </tr>\n",
              "    <tr>\n",
              "      <th>right_hip</th>\n",
              "      <td>(311.5064, 407.39584)</td>\n",
              "    </tr>\n",
              "    <tr>\n",
              "      <th>left_knee</th>\n",
              "      <td>(417.59888, 569.50714)</td>\n",
              "    </tr>\n",
              "    <tr>\n",
              "      <th>right_knee</th>\n",
              "      <td>(301.8616, 573.01227)</td>\n",
              "    </tr>\n",
              "    <tr>\n",
              "      <th>left_ankle</th>\n",
              "      <td>(425.49005, 709.7114)</td>\n",
              "    </tr>\n",
              "    <tr>\n",
              "      <th>right_ankle</th>\n",
              "      <td>(300.108, 708.8352)</td>\n",
              "    </tr>\n",
              "  </tbody>\n",
              "</table>\n",
              "</div>"
            ],
            "text/plain": [
              "                         person 0 (x,y)\n",
              "human part                             \n",
              "nose            (350.08545, 101.575134)\n",
              "left_eye           (361.48383, 87.5547)\n",
              "right_eye          (334.3031, 88.43098)\n",
              "left_ear          (383.40378, 95.44119)\n",
              "right_ear         (317.64395, 98.07003)\n",
              "left_shoulder    (428.12042, 184.82147)\n",
              "right_shoulder   (283.44885, 191.83168)\n",
              "left_elbow        (451.79398, 287.3459)\n",
              "right_elbow      (253.63774, 289.97473)\n",
              "left_wrist        (520.1842, 300.49005)\n",
              "right_wrist       (182.61716, 310.1291)\n",
              "left_hip          (407.9541, 407.39584)\n",
              "right_hip         (311.5064, 407.39584)\n",
              "left_knee        (417.59888, 569.50714)\n",
              "right_knee        (301.8616, 573.01227)\n",
              "left_ankle        (425.49005, 709.7114)\n",
              "right_ankle         (300.108, 708.8352)"
            ]
          },
          "metadata": {
            "tags": []
          },
          "execution_count": 122
        }
      ]
    },
    {
      "cell_type": "markdown",
      "metadata": {
        "id": "AsvxsIsCobWW",
        "colab_type": "text"
      },
      "source": [
        "# draw the lines\n",
        "\n",
        "> we dont consider left eye, right eye ,left ear & right ear point\n",
        "\n",
        "\n"
      ]
    },
    {
      "cell_type": "markdown",
      "metadata": {
        "id": "FM_gFe2NRRjG",
        "colab_type": "text"
      },
      "source": [
        "***step 1 :find all points for draw lines***"
      ]
    },
    {
      "cell_type": "code",
      "metadata": {
        "id": "g-4E6DEQoDI-",
        "colab_type": "code",
        "colab": {}
      },
      "source": [
        "line_points=[]\n",
        "for col in keypoints_locs_df.columns[1:]: \n",
        "\n",
        "  for i in range(k):\n",
        "\n",
        "      x,y=keypoints_locs_df[col][i]\n",
        "      locs=(int(x),int(y))\n",
        "\n",
        "      #cv2.circle(img,locs,2,(0,255,0),-1)\n",
        "\n",
        "      if 0<i<5:#skiping the 1,2,3,4 point\n",
        "        pass\n",
        "\n",
        "      else:\n",
        "\n",
        "        line_points.append(locs)\n",
        "\n",
        "\n",
        "#for connecting 0 point & center of (7,8) point\n",
        "#first we find center of (7,8)\n",
        "x_,y_=(np.array(line_points[7])+np.array(line_points[8]))/2\n",
        "x_,y_=int(x_),int(y_)\n",
        "\n"
      ],
      "execution_count": 123,
      "outputs": []
    },
    {
      "cell_type": "markdown",
      "metadata": {
        "id": "v5rQRd0ZRHrY",
        "colab_type": "text"
      },
      "source": [
        "***step 2 : visulize the data on white frame***"
      ]
    },
    {
      "cell_type": "code",
      "metadata": {
        "id": "eCJwgwMiRGIb",
        "colab_type": "code",
        "colab": {
          "base_uri": "https://localhost:8080/",
          "height": 816
        },
        "outputId": "5d80bfbd-4593-4570-c389-e57f9371c550"
      },
      "source": [
        "#colors for lines\n",
        "colors=[(255,0,0),(0,255,0),(0,0,255),(255,255,0),(0,255,255),(255,0,255),(255,127,0),\n",
        "        (255,0,127),(0,255,127),(127,255,0),(0,127,255),(127,0,255),(0,0,0)]\n",
        "\n",
        "#thickness\n",
        "thi=5\n",
        "\n",
        "#we make new white frame for see only lines\n",
        "white_frame=np.zeros(shape=img.shape,dtype=np.uint8)\n",
        "fm=white_frame\n",
        "\n",
        "for i in [0,1,2,7,8]:\n",
        "\n",
        "  if i==0:\n",
        "\n",
        "    cv2.line(fm,line_points[i],(x_,y_),colors[0],thi)#nose to center of right & left hip\n",
        "\n",
        "  elif i==1:\n",
        "\n",
        "    cv2.line(fm,line_points[i],line_points[i+1],colors[1],thi)#left shoulder to right shoulder \n",
        "    cv2.line(fm,line_points[i],line_points[i+2],colors[2],thi)#left shoulder to left elbow\n",
        "    cv2.line(fm, line_points[i+2],line_points[i+4],colors[3],thi)#left elbow to left wrist\n",
        "\n",
        "  elif i==2:\n",
        "\n",
        "    cv2.line(fm,line_points[i],line_points[i+2],colors[4],thi)#right shoulder to right right elbow\n",
        "    cv2.line(fm,line_points[i+2],line_points[i+4],colors[5],thi)#right elbow to right wrist\n",
        "\n",
        "  elif i==7:\n",
        "\n",
        "    cv2.line(fm,line_points[i],line_points[i+1],colors[11],thi)#left hip tp right hip\n",
        "    cv2.line(fm,line_points[i],line_points[i+2],colors[7],thi)#left hip to left knee\n",
        "    cv2.line(fm, line_points[i+2],line_points[i+4],colors[8],thi)#left knee to left ankle\n",
        "\n",
        "  elif i==8:\n",
        "\n",
        "    cv2.line(fm,line_points[i],line_points[i+2],colors[9],thi)#right hip to right knee\n",
        "    cv2.line(fm,line_points[i+2],line_points[i+4],colors[10],thi)#right knee to right ankle\n",
        "\n",
        "\n",
        "cv2_imshow(fm)"
      ],
      "execution_count": 124,
      "outputs": [
        {
          "output_type": "display_data",
          "data": {
            "image/png": "[encoded data removed]",
            "text/plain": [
              "<PIL.Image.Image image mode=RGB size=702x800 at 0x7FC6F4EE2550>"
            ]
          },
          "metadata": {
            "tags": []
          }
        }
      ]
    }
  ]
}